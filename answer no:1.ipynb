a=int(input())--------># a is a input 
b=int(input())----------->#b is a input
c=a+b ----------------------># Adding two numbers and store in c variable
print(c)----------># Print the output c
