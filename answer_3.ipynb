a,b,c=list(map(int,input().split())) ---------->give input a,b,c in single line with space
x1=(-b+(b**2-4*a*c)**(1/2))/(2*a)---------------> Shri Dharacharya's Method to find all of the roots of the quadratic (+)operator used
x2=(-b-(b**2-4*a*c)**(1/2))/(2*a)------------------>Shri Dharacharya's Method to find all of the roots of the quadratic(-)operator used
print('%.2f' % x1)----------------------------------->(round off)2nd decimal place
print('%.2f' % x2)-------------------------------------->(round off)2nd decimal place
