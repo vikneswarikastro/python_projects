s=input()       -------------------->s is a input
if s==s[::-1]:   ------------------------->s[::-1] is used to reverse the string and if condition is used to check given string is (==) equal to  reversed string
  print("yes")    ----------------------------> input string is equal to reversed string print the output yes
else:
  print("no")     -------------------------------->else print the output as no   
