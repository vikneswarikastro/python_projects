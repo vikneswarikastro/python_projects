a=int(input()) #-------->a is a input 
b=a*1000  #--------> kilometer is converted into meter by multiplying integer(a) with 1000 because 1 km=1000 m
c=a*100000 #--------->kilometer is converted into centimeter by multiplying integer(a) with 100000 because 1 km=100000 cm
print(b)  #----------> print the output b is in meter
print(c)    #----------> print the output c is in centimeter
