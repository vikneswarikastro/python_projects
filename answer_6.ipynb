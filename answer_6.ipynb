s=input()   -------------------------->s is a input string 
count=0    ----------------------------->take count=0
for i in s:  -------------------------------->for loop is used to iterate with in the string 
  count=count+1 -------------------------------> then add the letters count with space in the count variable 
print(count)  ------------------------------------->print function is used to print the output
